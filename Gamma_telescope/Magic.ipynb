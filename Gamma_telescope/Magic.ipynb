{
  "nbformat": 4,
  "nbformat_minor": 0,
  "metadata": {
    "colab": {
      "name": "Magic.ipynb",
      "provenance": [],
      "collapsed_sections": []
    },
    "kernelspec": {
      "name": "python3",
      "display_name": "Python 3"
    },
    "language_info": {
      "name": "python"
    }
  },
  "cells": [
    {
      "cell_type": "code",
      "metadata": {
        "id": "zwyxOys9d95L"
      },
      "source": [
        "import pandas as pd\n",
        "\n",
        "\n",
        "X = pd.read_csv('/content/drive/MyDrive/Gamma_telescope/magic04.data',sep=',',header=None)\n",
        "dataset = pd.DataFrame(X)\n",
        "dataset.columns = ['fLength','fWidth','fSize','fConc','fConc1','fAsym','fM3Long','fM3Trans','fAlpha','fDist','class']\n",
        "\n",
        "\n",
        "\n",
        "Y = dataset['class']\n",
        "X = dataset.drop(['class'],axis=1)\n",
        "\n",
        "from sklearn.utils import shuffle\n",
        "X,Y = shuffle(X,Y)\n"
      ],
      "execution_count": 26,
      "outputs": []
    },
    {
      "cell_type": "code",
      "metadata": {
        "colab": {
          "base_uri": "https://localhost:8080/"
        },
        "id": "V5A6r8bod_wF",
        "outputId": "64b7c855-305f-49ee-83d9-04e38d4e65e3"
      },
      "source": [
        "from sklearn.preprocessing import MinMaxScaler \n",
        "X = MinMaxScaler().fit_transform(X)\n",
        "\n",
        "from sklearn import preprocessing\n",
        "  \n",
        "# label_encoder object knows how to understand word labels.\n",
        "label_encoder = preprocessing.LabelEncoder()\n",
        "  \n",
        "# Encode labels in column 'species'.\n",
        "Y = label_encoder.fit_transform(Y)\n",
        "  \n",
        "print(Y)\n",
        "\n",
        "print(X.shape)\n",
        "print(Y.shape)"
      ],
      "execution_count": 27,
      "outputs": [
        {
          "output_type": "stream",
          "text": [
            "[1 0 0 ... 1 0 1]\n",
            "(19020, 10)\n",
            "(19020,)\n"
          ],
          "name": "stdout"
        }
      ]
    },
    {
      "cell_type": "code",
      "metadata": {
        "colab": {
          "base_uri": "https://localhost:8080/"
        },
        "id": "JHcg4lE_d_y0",
        "outputId": "5db68eae-ea5e-4334-b2c6-d7ba71048d75"
      },
      "source": [
        "\n",
        "import tensorflow as tf\n",
        "from tensorflow import keras\n",
        "from tensorflow.keras import layers\n",
        "from tensorflow.keras import regularizers\n",
        "\n",
        "\n",
        "model = tf.keras.Sequential([\n",
        "    layers.Dense(2526,activation='relu',input_shape=(10,),kernel_regularizer=regularizers.l2(0.001)),\n",
        "    layers.Dropout(0.3),\n",
        "  \n",
        "    layers.Dense(256,activation='relu',kernel_regularizer=regularizers.l2(0.001)),\n",
        "    layers.Dropout(0.3),\n",
        "\n",
        "\n",
        "    layers.Dense(256,activation='relu',kernel_regularizer=regularizers.l2(0.001)),\n",
        "    layers.Dropout(0.3),\n",
        "    \n",
        "    \n",
        "    \n",
        "\n",
        "   \n",
        "    layers.Dense(1)\n",
        "])\n",
        "\n",
        "from keras.optimizers import SGD\n",
        "opt = SGD(lr=0.001,momentum=0.9,nesterov=True)\n",
        "\n",
        "model.compile(optimizer=opt,loss = keras.losses.BinaryCrossentropy(from_logits=True),metrics='accuracy')\n",
        "\n",
        "callback = tf.keras.callbacks.EarlyStopping(patience=15,restore_best_weights=True,monitor='val_accuracy')\n",
        "\n",
        "model.summary()\n",
        "\n",
        "history = model.fit(X,Y,batch_size=8, epochs = 100,shuffle=True,callbacks = [callback],validation_split=0.2)"
      ],
      "execution_count": 28,
      "outputs": [
        {
          "output_type": "stream",
          "text": [
            "Model: \"sequential_5\"\n",
            "_________________________________________________________________\n",
            "Layer (type)                 Output Shape              Param #   \n",
            "=================================================================\n",
            "dense_19 (Dense)             (None, 2526)              27786     \n",
            "_________________________________________________________________\n",
            "dropout_14 (Dropout)         (None, 2526)              0         \n",
            "_________________________________________________________________\n",
            "dense_20 (Dense)             (None, 256)               646912    \n",
            "_________________________________________________________________\n",
            "dropout_15 (Dropout)         (None, 256)               0         \n",
            "_________________________________________________________________\n",
            "dense_21 (Dense)             (None, 256)               65792     \n",
            "_________________________________________________________________\n",
            "dropout_16 (Dropout)         (None, 256)               0         \n",
            "_________________________________________________________________\n",
            "dense_22 (Dense)             (None, 1)                 257       \n",
            "=================================================================\n",
            "Total params: 740,747\n",
            "Trainable params: 740,747\n",
            "Non-trainable params: 0\n",
            "_________________________________________________________________\n",
            "Epoch 1/100\n",
            "1902/1902 [==============================] - 16s 8ms/step - loss: 1.3421 - accuracy: 0.6598 - val_loss: 1.1700 - val_accuracy: 0.7621\n",
            "Epoch 2/100\n",
            "1902/1902 [==============================] - 15s 8ms/step - loss: 1.1528 - accuracy: 0.7675 - val_loss: 1.0818 - val_accuracy: 0.7976\n",
            "Epoch 3/100\n",
            "1902/1902 [==============================] - 15s 8ms/step - loss: 1.0726 - accuracy: 0.7955 - val_loss: 1.0158 - val_accuracy: 0.7989\n",
            "Epoch 4/100\n",
            "1902/1902 [==============================] - 15s 8ms/step - loss: 1.0051 - accuracy: 0.8076 - val_loss: 0.9632 - val_accuracy: 0.8136\n",
            "Epoch 5/100\n",
            "1902/1902 [==============================] - 15s 8ms/step - loss: 0.9495 - accuracy: 0.8147 - val_loss: 0.9172 - val_accuracy: 0.8144\n",
            "Epoch 6/100\n",
            "1902/1902 [==============================] - 15s 8ms/step - loss: 0.9165 - accuracy: 0.8123 - val_loss: 0.8752 - val_accuracy: 0.8236\n",
            "Epoch 7/100\n",
            "1902/1902 [==============================] - 15s 8ms/step - loss: 0.8760 - accuracy: 0.8161 - val_loss: 0.8456 - val_accuracy: 0.8291\n",
            "Epoch 8/100\n",
            "1902/1902 [==============================] - 15s 8ms/step - loss: 0.8411 - accuracy: 0.8170 - val_loss: 0.8210 - val_accuracy: 0.8028\n",
            "Epoch 9/100\n",
            "1902/1902 [==============================] - 15s 8ms/step - loss: 0.8148 - accuracy: 0.8196 - val_loss: 0.7770 - val_accuracy: 0.8231\n",
            "Epoch 10/100\n",
            "1902/1902 [==============================] - 15s 8ms/step - loss: 0.7770 - accuracy: 0.8189 - val_loss: 0.7577 - val_accuracy: 0.8134\n",
            "Epoch 11/100\n",
            "1902/1902 [==============================] - 15s 8ms/step - loss: 0.7479 - accuracy: 0.8247 - val_loss: 0.7316 - val_accuracy: 0.8375\n",
            "Epoch 12/100\n",
            "1902/1902 [==============================] - 15s 8ms/step - loss: 0.7244 - accuracy: 0.8237 - val_loss: 0.7080 - val_accuracy: 0.8226\n",
            "Epoch 13/100\n",
            "1902/1902 [==============================] - 15s 8ms/step - loss: 0.6909 - accuracy: 0.8305 - val_loss: 0.6861 - val_accuracy: 0.8168\n",
            "Epoch 14/100\n",
            "1902/1902 [==============================] - 15s 8ms/step - loss: 0.6761 - accuracy: 0.8281 - val_loss: 0.6517 - val_accuracy: 0.8289\n",
            "Epoch 15/100\n",
            "1902/1902 [==============================] - 14s 8ms/step - loss: 0.6585 - accuracy: 0.8293 - val_loss: 0.6321 - val_accuracy: 0.8310\n",
            "Epoch 16/100\n",
            "1902/1902 [==============================] - 15s 8ms/step - loss: 0.6391 - accuracy: 0.8300 - val_loss: 0.6163 - val_accuracy: 0.8386\n",
            "Epoch 17/100\n",
            "1902/1902 [==============================] - 15s 8ms/step - loss: 0.6159 - accuracy: 0.8299 - val_loss: 0.5991 - val_accuracy: 0.8312\n",
            "Epoch 18/100\n",
            "1902/1902 [==============================] - 15s 8ms/step - loss: 0.6026 - accuracy: 0.8302 - val_loss: 0.5863 - val_accuracy: 0.8241\n",
            "Epoch 19/100\n",
            "1902/1902 [==============================] - 14s 8ms/step - loss: 0.5833 - accuracy: 0.8341 - val_loss: 0.5729 - val_accuracy: 0.8404\n",
            "Epoch 20/100\n",
            "1902/1902 [==============================] - 15s 8ms/step - loss: 0.5694 - accuracy: 0.8390 - val_loss: 0.5606 - val_accuracy: 0.8247\n",
            "Epoch 21/100\n",
            "1902/1902 [==============================] - 15s 8ms/step - loss: 0.5683 - accuracy: 0.8251 - val_loss: 0.5521 - val_accuracy: 0.8170\n",
            "Epoch 22/100\n",
            "1902/1902 [==============================] - 15s 8ms/step - loss: 0.5519 - accuracy: 0.8326 - val_loss: 0.5501 - val_accuracy: 0.8454\n",
            "Epoch 23/100\n",
            "1902/1902 [==============================] - 15s 8ms/step - loss: 0.5372 - accuracy: 0.8339 - val_loss: 0.5341 - val_accuracy: 0.8199\n",
            "Epoch 24/100\n",
            "1902/1902 [==============================] - 15s 8ms/step - loss: 0.5303 - accuracy: 0.8313 - val_loss: 0.5101 - val_accuracy: 0.8407\n",
            "Epoch 25/100\n",
            "1902/1902 [==============================] - 15s 8ms/step - loss: 0.5106 - accuracy: 0.8369 - val_loss: 0.5130 - val_accuracy: 0.8415\n",
            "Epoch 26/100\n",
            "1902/1902 [==============================] - 15s 8ms/step - loss: 0.5135 - accuracy: 0.8320 - val_loss: 0.4998 - val_accuracy: 0.8236\n",
            "Epoch 27/100\n",
            "1902/1902 [==============================] - 15s 8ms/step - loss: 0.4969 - accuracy: 0.8372 - val_loss: 0.4830 - val_accuracy: 0.8417\n",
            "Epoch 28/100\n",
            "1902/1902 [==============================] - 15s 8ms/step - loss: 0.4894 - accuracy: 0.8405 - val_loss: 0.4840 - val_accuracy: 0.8239\n",
            "Epoch 29/100\n",
            "1902/1902 [==============================] - 15s 8ms/step - loss: 0.4919 - accuracy: 0.8378 - val_loss: 0.4797 - val_accuracy: 0.8425\n",
            "Epoch 30/100\n",
            "1902/1902 [==============================] - 15s 8ms/step - loss: 0.4722 - accuracy: 0.8390 - val_loss: 0.4917 - val_accuracy: 0.8502\n",
            "Epoch 31/100\n",
            "1902/1902 [==============================] - 15s 8ms/step - loss: 0.4765 - accuracy: 0.8344 - val_loss: 0.4630 - val_accuracy: 0.8289\n",
            "Epoch 32/100\n",
            "1902/1902 [==============================] - 15s 8ms/step - loss: 0.4703 - accuracy: 0.8380 - val_loss: 0.4559 - val_accuracy: 0.8333\n",
            "Epoch 33/100\n",
            "1902/1902 [==============================] - 15s 8ms/step - loss: 0.4640 - accuracy: 0.8377 - val_loss: 0.4488 - val_accuracy: 0.8504\n",
            "Epoch 34/100\n",
            "1902/1902 [==============================] - 15s 8ms/step - loss: 0.4620 - accuracy: 0.8367 - val_loss: 0.4495 - val_accuracy: 0.8289\n",
            "Epoch 35/100\n",
            "1902/1902 [==============================] - 15s 8ms/step - loss: 0.4541 - accuracy: 0.8409 - val_loss: 0.4442 - val_accuracy: 0.8344\n",
            "Epoch 36/100\n",
            "1902/1902 [==============================] - 15s 8ms/step - loss: 0.4464 - accuracy: 0.8377 - val_loss: 0.4626 - val_accuracy: 0.8247\n",
            "Epoch 37/100\n",
            "1902/1902 [==============================] - 15s 8ms/step - loss: 0.4429 - accuracy: 0.8375 - val_loss: 0.4349 - val_accuracy: 0.8512\n",
            "Epoch 38/100\n",
            "1902/1902 [==============================] - 15s 8ms/step - loss: 0.4447 - accuracy: 0.8368 - val_loss: 0.4296 - val_accuracy: 0.8389\n",
            "Epoch 39/100\n",
            "1902/1902 [==============================] - 15s 8ms/step - loss: 0.4323 - accuracy: 0.8395 - val_loss: 0.4325 - val_accuracy: 0.8444\n",
            "Epoch 40/100\n",
            "1902/1902 [==============================] - 15s 8ms/step - loss: 0.4362 - accuracy: 0.8381 - val_loss: 0.4379 - val_accuracy: 0.8315\n",
            "Epoch 41/100\n",
            "1902/1902 [==============================] - 15s 8ms/step - loss: 0.4312 - accuracy: 0.8413 - val_loss: 0.4679 - val_accuracy: 0.8060\n",
            "Epoch 42/100\n",
            "1902/1902 [==============================] - 15s 8ms/step - loss: 0.4221 - accuracy: 0.8449 - val_loss: 0.4168 - val_accuracy: 0.8507\n",
            "Epoch 43/100\n",
            "1902/1902 [==============================] - 15s 8ms/step - loss: 0.4232 - accuracy: 0.8423 - val_loss: 0.4423 - val_accuracy: 0.8157\n",
            "Epoch 44/100\n",
            "1902/1902 [==============================] - 15s 8ms/step - loss: 0.4209 - accuracy: 0.8382 - val_loss: 0.4297 - val_accuracy: 0.8257\n",
            "Epoch 45/100\n",
            "1902/1902 [==============================] - 15s 8ms/step - loss: 0.4137 - accuracy: 0.8439 - val_loss: 0.4143 - val_accuracy: 0.8360\n",
            "Epoch 46/100\n",
            "1902/1902 [==============================] - 15s 8ms/step - loss: 0.4246 - accuracy: 0.8386 - val_loss: 0.4123 - val_accuracy: 0.8365\n",
            "Epoch 47/100\n",
            "1902/1902 [==============================] - 15s 8ms/step - loss: 0.4158 - accuracy: 0.8467 - val_loss: 0.4355 - val_accuracy: 0.8202\n",
            "Epoch 48/100\n",
            "1902/1902 [==============================] - 15s 8ms/step - loss: 0.4085 - accuracy: 0.8424 - val_loss: 0.4050 - val_accuracy: 0.8396\n",
            "Epoch 49/100\n",
            "1902/1902 [==============================] - 15s 8ms/step - loss: 0.4112 - accuracy: 0.8451 - val_loss: 0.4035 - val_accuracy: 0.8504\n",
            "Epoch 50/100\n",
            "1902/1902 [==============================] - 15s 8ms/step - loss: 0.4126 - accuracy: 0.8411 - val_loss: 0.4172 - val_accuracy: 0.8328\n",
            "Epoch 51/100\n",
            "1902/1902 [==============================] - 15s 8ms/step - loss: 0.4073 - accuracy: 0.8430 - val_loss: 0.4253 - val_accuracy: 0.8247\n",
            "Epoch 52/100\n",
            "1902/1902 [==============================] - 15s 8ms/step - loss: 0.4131 - accuracy: 0.8399 - val_loss: 0.3975 - val_accuracy: 0.8528\n",
            "Epoch 53/100\n",
            "1902/1902 [==============================] - 14s 8ms/step - loss: 0.4074 - accuracy: 0.8437 - val_loss: 0.4001 - val_accuracy: 0.8431\n",
            "Epoch 54/100\n",
            "1902/1902 [==============================] - 14s 8ms/step - loss: 0.4146 - accuracy: 0.8376 - val_loss: 0.4044 - val_accuracy: 0.8346\n",
            "Epoch 55/100\n",
            "1902/1902 [==============================] - 15s 8ms/step - loss: 0.4126 - accuracy: 0.8389 - val_loss: 0.4269 - val_accuracy: 0.8425\n",
            "Epoch 56/100\n",
            "1902/1902 [==============================] - 14s 8ms/step - loss: 0.4005 - accuracy: 0.8467 - val_loss: 0.3918 - val_accuracy: 0.8402\n",
            "Epoch 57/100\n",
            "1902/1902 [==============================] - 14s 8ms/step - loss: 0.3950 - accuracy: 0.8478 - val_loss: 0.3996 - val_accuracy: 0.8546\n",
            "Epoch 58/100\n",
            "1902/1902 [==============================] - 15s 8ms/step - loss: 0.4052 - accuracy: 0.8453 - val_loss: 0.4074 - val_accuracy: 0.8289\n",
            "Epoch 59/100\n",
            "1902/1902 [==============================] - 15s 8ms/step - loss: 0.4000 - accuracy: 0.8395 - val_loss: 0.4145 - val_accuracy: 0.8502\n",
            "Epoch 60/100\n",
            "1902/1902 [==============================] - 14s 8ms/step - loss: 0.4046 - accuracy: 0.8438 - val_loss: 0.3919 - val_accuracy: 0.8449\n",
            "Epoch 61/100\n",
            "1902/1902 [==============================] - 14s 8ms/step - loss: 0.4063 - accuracy: 0.8413 - val_loss: 0.4131 - val_accuracy: 0.8194\n",
            "Epoch 62/100\n",
            "1902/1902 [==============================] - 14s 8ms/step - loss: 0.4028 - accuracy: 0.8432 - val_loss: 0.3903 - val_accuracy: 0.8391\n",
            "Epoch 63/100\n",
            "1902/1902 [==============================] - 14s 8ms/step - loss: 0.4009 - accuracy: 0.8476 - val_loss: 0.3963 - val_accuracy: 0.8310\n",
            "Epoch 64/100\n",
            "1902/1902 [==============================] - 14s 8ms/step - loss: 0.3999 - accuracy: 0.8424 - val_loss: 0.3909 - val_accuracy: 0.8407\n",
            "Epoch 65/100\n",
            "1902/1902 [==============================] - 14s 8ms/step - loss: 0.3973 - accuracy: 0.8433 - val_loss: 0.4011 - val_accuracy: 0.8502\n",
            "Epoch 66/100\n",
            "1902/1902 [==============================] - 15s 8ms/step - loss: 0.4045 - accuracy: 0.8414 - val_loss: 0.3858 - val_accuracy: 0.8467\n",
            "Epoch 67/100\n",
            "1902/1902 [==============================] - 15s 8ms/step - loss: 0.4077 - accuracy: 0.8367 - val_loss: 0.4106 - val_accuracy: 0.8260\n",
            "Epoch 68/100\n",
            "1902/1902 [==============================] - 14s 7ms/step - loss: 0.3881 - accuracy: 0.8484 - val_loss: 0.3939 - val_accuracy: 0.8360\n",
            "Epoch 69/100\n",
            "1902/1902 [==============================] - 14s 8ms/step - loss: 0.3915 - accuracy: 0.8452 - val_loss: 0.4115 - val_accuracy: 0.8199\n",
            "Epoch 70/100\n",
            "1902/1902 [==============================] - 14s 7ms/step - loss: 0.3923 - accuracy: 0.8443 - val_loss: 0.4071 - val_accuracy: 0.8307\n",
            "Epoch 71/100\n",
            "1902/1902 [==============================] - 14s 8ms/step - loss: 0.3945 - accuracy: 0.8430 - val_loss: 0.4248 - val_accuracy: 0.8541\n",
            "Epoch 72/100\n",
            "1902/1902 [==============================] - 14s 8ms/step - loss: 0.3930 - accuracy: 0.8456 - val_loss: 0.3849 - val_accuracy: 0.8444\n"
          ],
          "name": "stdout"
        }
      ]
    },
    {
      "cell_type": "code",
      "metadata": {
        "colab": {
          "base_uri": "https://localhost:8080/",
          "height": 279
        },
        "id": "d5KPVNlRd_10",
        "outputId": "585d15b9-3d61-4b64-93ac-f33ef13d6536"
      },
      "source": [
        "import matplotlib.pyplot as plt\n",
        "\n",
        "training_loss = history.history['loss']\n",
        "val_loss = history.history['val_loss']\n",
        "\n",
        "# Create count of the number of epochs\n",
        "epoch_count = range(1, len(training_loss) + 1)\n",
        "\n",
        "# Visualize loss history\n",
        "plt.plot(epoch_count, training_loss, 'r--')\n",
        "plt.plot(epoch_count, val_loss, 'b-')\n",
        "plt.legend(['Training Loss', 'Val Loss'])\n",
        "plt.xlabel('Epoch')\n",
        "plt.ylabel('Loss')\n",
        "plt.show();"
      ],
      "execution_count": 29,
      "outputs": [
        {
          "output_type": "display_data",
          "data": {
            "image/png": "[encoded data removed]",
            "text/plain": [
              "<Figure size 432x288 with 1 Axes>"
            ]
          },
          "metadata": {
            "tags": [],
            "needs_background": "light"
          }
        }
      ]
    },
    {
      "cell_type": "code",
      "metadata": {
        "colab": {
          "base_uri": "https://localhost:8080/",
          "height": 279
        },
        "id": "wX5z0tvqd_5D",
        "outputId": "36578df1-1e3e-4757-ce64-cfea17fcaa04"
      },
      "source": [
        "import matplotlib.pyplot as plt\n",
        "\n",
        "training_acc = history.history['accuracy']\n",
        "val_acc = history.history['val_accuracy']\n",
        "\n",
        "# Create count of the number of epochs\n",
        "epoch_count = range(1, len(training_acc) + 1)\n",
        "\n",
        "# Visualize loss history\n",
        "plt.plot(epoch_count, training_acc, 'r--')\n",
        "plt.plot(epoch_count, val_acc, 'b-')\n",
        "plt.legend(['Training Accuracy', 'Val Accuracy'])\n",
        "plt.xlabel('Epoch')\n",
        "plt.ylabel('Accuracy')\n",
        "plt.show();"
      ],
      "execution_count": 30,
      "outputs": [
        {
          "output_type": "display_data",
          "data": {
            "image/png": "[encoded data removed]",
            "text/plain": [
              "<Figure size 432x288 with 1 Axes>"
            ]
          },
          "metadata": {
            "tags": [],
            "needs_background": "light"
          }
        }
      ]
    },
    {
      "cell_type": "code",
      "metadata": {
        "colab": {
          "base_uri": "https://localhost:8080/"
        },
        "id": "o4Yo3n_id_8D",
        "outputId": "2292aca8-6910-4ee3-f34c-3f0e05d8a46e"
      },
      "source": [
        "_, accuracy = model.evaluate(X, Y)\n",
        "print('Accuracy: %.2f' % (accuracy*100))"
      ],
      "execution_count": 31,
      "outputs": [
        {
          "output_type": "stream",
          "text": [
            "595/595 [==============================] - 2s 3ms/step - loss: 0.3964 - accuracy: 0.8596\n",
            "Accuracy: 85.96\n"
          ],
          "name": "stdout"
        }
      ]
    }
  ]
}